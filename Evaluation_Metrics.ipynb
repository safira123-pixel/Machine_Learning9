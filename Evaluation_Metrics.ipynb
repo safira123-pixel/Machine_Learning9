{
  "cells": [
    {
      "cell_type": "markdown",
      "metadata": {
        "id": "A_5noAffQiFu"
      },
      "source": [
        "# Evaluation Metrix  \n",
        "\n",
        "Memahami Metrics of Classification\n",
        "Di jobsheet ini, akan dijelaskan terkait berbagai metrik yang digunakan untuk menentukan kinerja pengklasifikasi secara lebih jelas. "
      ]
    },
    {
      "cell_type": "markdown",
      "metadata": {
        "id": "YjJmGxnbY9m9"
      },
      "source": [
        "Mari kita mulai dengan mengimpor libraries yang akan digunakan"
      ]
    },
    {
      "cell_type": "markdown",
      "metadata": {
        "id": "eXSU_fk7RlEM"
      },
      "source": [
        "### Importing libraries"
      ]
    },
    {
      "cell_type": "code",
      "execution_count": 24,
      "metadata": {
        "id": "Sx4KZX7cF8Yd"
      },
      "outputs": [],
      "source": [
        "import numpy as np\n",
        "import pandas as pd\n",
        "from sklearn.datasets import load_breast_cancer\n",
        "from sklearn.model_selection import train_test_split\n",
        "from sklearn import svm\n",
        "from sklearn import metrics\n",
        "import matplotlib.pyplot as plt\n",
        "import seaborn as sns\n",
        "import itertools\n",
        "\n",
        "np.random.seed(42)\n",
        "sns.set(rc={\"figure.figsize\": (8, 8)})\n",
        "sns.set_style(\"ticks\")"
      ]
    },
    {
      "cell_type": "markdown",
      "metadata": {
        "id": "0pddJrEbRtbr"
      },
      "source": [
        "### Dataset\n",
        "Untuk membandingkan metrik yang berbeda, akan menggunakan [Breast Cancer Dataset](https://goo.gl/U2Uwz2) yang disediakan oleh sckit-learn di `dataset` module. Dataset ini digunakan untuk klasifikasi biner antara dua jenis kanker."
      ]
    },
    {
      "cell_type": "code",
      "execution_count": 25,
      "metadata": {
        "colab": {
          "base_uri": "https://localhost:8080/",
          "height": 408
        },
        "id": "glPEglrYGV6f",
        "outputId": "f0dbc433-a2b7-45fd-92ac-de56868f7fd9"
      },
      "outputs": [
        {
          "name": "stdout",
          "output_type": "stream",
          "text": [
            ".. _breast_cancer_dataset:\n",
            "\n",
            "Breast cancer wisconsin (diagnostic) dataset\n",
            "--------------------------------------------\n",
            "\n",
            "**Data Set Characteristics:**\n",
            "\n",
            "    :Number of Instances: 569\n",
            "\n",
            "    :Number of Attributes: 30 numeric, predictive attributes and the class\n",
            "\n",
            "    :Attribute Information:\n",
            "        - radius (mean of distances from center to points on the perimeter)\n",
            "        - texture (standard deviation of gray-scale values)\n",
            "        - perimeter\n",
            "        - area\n",
            "        - smoothness (local variation in radius lengths)\n",
            "        - compactness (perimeter^2 / area - 1.0)\n",
            "        - concavity (severity of concave portions of the contour)\n",
            "        - concave points (number of concave portions of the contour)\n",
            "        - symmetry\n",
            "        - fractal dimension (\"coastline appr\n"
          ]
        }
      ],
      "source": [
        "data = load_breast_cancer()\n",
        "print(data.DESCR[:760]) "
      ]
    },
    {
      "cell_type": "code",
      "execution_count": 26,
      "metadata": {
        "colab": {
          "base_uri": "https://localhost:8080/",
          "height": 34
        },
        "id": "bStQWeSOSSp2",
        "outputId": "3880a990-e083-413c-c81b-78d4dfed16ac"
      },
      "outputs": [
        {
          "name": "stdout",
          "output_type": "stream",
          "text": [
            "Tipe dari kanker (targets) adalah ['malignant' 'benign']\n"
          ]
        }
      ],
      "source": [
        "print(f\"Tipe dari kanker (targets) adalah {data.target_names}\")"
      ]
    },
    {
      "cell_type": "markdown",
      "metadata": {
        "id": "JizLx4ZfSZ-y"
      },
      "source": [
        "bagaimana dimensi datanya? terlihat ada **569 contoh** dan setiap contoh memiliki **30 features**.  \n",
        "yang menjadi **target** variable adalah binary (**0 and 1** untuk `malignant` dan `benign`).   \n",
        "akan dipertimbangkan `benign` sebagai `positive` class, dan `malignant` sebagi `negative` class.  \n",
        "Makan dapat difahami sebagai:  \n",
        "`0 untuk is_not_benign`  \n",
        "`1 untuk is_benign`"
      ]
    },
    {
      "cell_type": "code",
      "execution_count": 27,
      "metadata": {
        "colab": {
          "base_uri": "https://localhost:8080/",
          "height": 34
        },
        "id": "xG-br8XcHXHC",
        "outputId": "f0e42571-1628-4b7a-9d15-9cc770148576"
      },
      "outputs": [
        {
          "name": "stdout",
          "output_type": "stream",
          "text": [
            "Shape dari features adalah (569, 30), dan shape dari target adalah (569,)\n"
          ]
        }
      ],
      "source": [
        "X = data.data  \n",
        "y = data.target  \n",
        "print(f\"Shape dari features adalah {X.shape}, dan shape dari target adalah {y.shape}\")"
      ]
    },
    {
      "cell_type": "markdown",
      "metadata": {
        "id": "zpdfCVt8TW5K"
      },
      "source": [
        "### Split the data"
      ]
    },
    {
      "cell_type": "code",
      "execution_count": 28,
      "metadata": {
        "id": "QsgrNr2RINsN"
      },
      "outputs": [],
      "source": [
        "X_train, X_test, y_train, y_test = train_test_split(X, y, test_size=200, random_state=42, stratify=y)"
      ]
    },
    {
      "cell_type": "code",
      "execution_count": 29,
      "metadata": {
        "colab": {
          "base_uri": "https://localhost:8080/",
          "height": 34
        },
        "id": "YAU7JsyNJhc-",
        "outputId": "59461afb-bb4c-4b42-83fb-add3b23894bd"
      },
      "outputs": [
        {
          "data": {
            "text/plain": [
              "array([1, 1, 1, 1, 0, 1, 1, 1, 0, 1])"
            ]
          },
          "execution_count": 29,
          "metadata": {},
          "output_type": "execute_result"
        }
      ],
      "source": [
        "y_train[:10]"
      ]
    },
    {
      "cell_type": "markdown",
      "metadata": {
        "id": "DVCi5RMsJE-O"
      },
      "source": [
        "### Training and predicting data"
      ]
    },
    {
      "cell_type": "markdown",
      "metadata": {
        "id": "4iRqwJU-TmIt"
      },
      "source": [
        "Dalam contoh ini, akan menggunakan scikit's Support Vector Machines classifier untuk memprediksi apakah itu kanker jinak.  \n",
        "`SVC` classifier digunakan dari `sklearn.svm`."
      ]
    },
    {
      "cell_type": "code",
      "execution_count": 30,
      "metadata": {
        "id": "4pKL5VoJKh8A"
      },
      "outputs": [],
      "source": [
        "classifier = svm.SVC(kernel='linear', probability=True, verbose=True)"
      ]
    },
    {
      "cell_type": "code",
      "execution_count": 31,
      "metadata": {
        "colab": {
          "base_uri": "https://localhost:8080/",
          "height": 85
        },
        "id": "1rj0E-XnLWaH",
        "outputId": "9702ce7b-0c94-402c-b76e-e4c598fdd168"
      },
      "outputs": [
        {
          "name": "stdout",
          "output_type": "stream",
          "text": [
            "[LibSVM]"
          ]
        },
        {
          "data": {
            "text/plain": [
              "SVC(kernel='linear', probability=True, verbose=True)"
            ]
          },
          "execution_count": 31,
          "metadata": {},
          "output_type": "execute_result"
        }
      ],
      "source": [
        "classifier.fit(X_train, y_train)"
      ]
    },
    {
      "cell_type": "code",
      "execution_count": 32,
      "metadata": {
        "id": "hZvqwrrAT6UV"
      },
      "outputs": [],
      "source": [
        "# Now save the prediction results both as probability and as classes.  \n",
        "# ** y_preds** is a **1D vector** of one of {0, 1} values, denoting predictions as malignant and benign, respectively.  \n",
        "# **y_proba** is a **2D vector**, where for each example, it contains a vector of length 2,  \n",
        "# [prob. of malignant, prob. of benign]"
      ]
    },
    {
      "cell_type": "code",
      "execution_count": 33,
      "metadata": {
        "id": "1PdjKHbfT6AX"
      },
      "outputs": [],
      "source": [
        "y_preds = classifier.predict(X_test)\n",
        "y_proba = classifier.predict_proba(X_test)"
      ]
    },
    {
      "cell_type": "code",
      "execution_count": 34,
      "metadata": {
        "id": "To9oQknC19dh"
      },
      "outputs": [],
      "source": [
        "y_proba = y_proba[:,1].reshape((y_proba.shape[0],))"
      ]
    },
    {
      "cell_type": "code",
      "execution_count": 35,
      "metadata": {
        "colab": {
          "base_uri": "https://localhost:8080/",
          "height": 68
        },
        "id": "J_VDguyUL7fu",
        "outputId": "9efcd37e-0ede-4db0-c77d-f9b77edd8173"
      },
      "outputs": [
        {
          "data": {
            "text/plain": [
              "(array([0.99697266, 0.08136744, 0.99999168, 0.96809376, 0.99999907]),\n",
              " array([1, 0, 1, 1, 1]),\n",
              " array([1, 0, 1, 1, 1]))"
            ]
          },
          "execution_count": 35,
          "metadata": {},
          "output_type": "execute_result"
        }
      ],
      "source": [
        "y_proba[:5], y_preds[:5], y_test[:5]"
      ]
    },
    {
      "cell_type": "markdown",
      "metadata": {
        "id": "QM2WA4_FJfgT"
      },
      "source": [
        "### Confusion Matrix"
      ]
    },
    {
      "cell_type": "markdown",
      "metadata": {
        "id": "HEtVeYiBUDvH"
      },
      "source": [
        "selanjutnya akan dilakukan perhitungan confusion matrix dan akan diimplementasikan dalam Scikit-learn's [`sklearn.metrics.confusion_matrix`](http://scikit-learn.org/stable/modules/generated/sklearn.metrics.confusion_matrix.html)."
      ]
    },
    {
      "cell_type": "code",
      "execution_count": 36,
      "metadata": {
        "colab": {
          "base_uri": "https://localhost:8080/",
          "height": 51
        },
        "id": "gXSq_kfcN8U8",
        "outputId": "64a074dd-eb2e-433b-f9c2-b242866dd70c"
      },
      "outputs": [
        {
          "data": {
            "text/plain": [
              "array([[ 68,   7],\n",
              "       [  2, 123]], dtype=int64)"
            ]
          },
          "execution_count": 36,
          "metadata": {},
          "output_type": "execute_result"
        }
      ],
      "source": [
        "conf = metrics.confusion_matrix(y_test, y_preds)\n",
        "conf"
      ]
    },
    {
      "cell_type": "code",
      "execution_count": 37,
      "metadata": {
        "id": "e1yDrh9AqZjB"
      },
      "outputs": [],
      "source": [
        "def get_confusion_matrix(y_true, y_pred):\n",
        "    n_classes = len(np.unique(y_true))\n",
        "    conf = np.zeros((n_classes, n_classes))\n",
        "    for actual, pred in zip(y_true, y_pred):\n",
        "        conf[int(actual)][int(pred)] += 1\n",
        "    return conf.astype('int')"
      ]
    },
    {
      "cell_type": "code",
      "execution_count": 38,
      "metadata": {
        "colab": {
          "base_uri": "https://localhost:8080/",
          "height": 51
        },
        "id": "txQRtyAZrnbG",
        "outputId": "e18d7e18-e05d-4d5f-8787-c61793bbca2d"
      },
      "outputs": [
        {
          "data": {
            "text/plain": [
              "array([[ 68,   7],\n",
              "       [  2, 123]])"
            ]
          },
          "execution_count": 38,
          "metadata": {},
          "output_type": "execute_result"
        }
      ],
      "source": [
        "conf = get_confusion_matrix(y_test, y_preds)\n",
        "conf"
      ]
    },
    {
      "cell_type": "code",
      "execution_count": 39,
      "metadata": {
        "colab": {
          "base_uri": "https://localhost:8080/",
          "height": 598
        },
        "id": "PiSZNOpnOeYu",
        "outputId": "903aca0e-a4fd-4d6d-df1b-0652f8743dc6"
      },
      "outputs": [
        {
          "data": {
            "text/plain": [
              "Text(0.5, 87.37999999999997, 'Predicted label')"
            ]
          },
          "execution_count": 39,
          "metadata": {},
          "output_type": "execute_result"
        },
        {
          "data": {
            "image/png": "[encoded data removed]",
            "text/plain": [
              "<Figure size 576x576 with 2 Axes>"
            ]
          },
          "metadata": {},
          "output_type": "display_data"
        }
      ],
      "source": [
        "classes = [0, 1]\n",
        "\n",
        "plt.imshow(conf, interpolation='nearest', cmap=plt.cm.Greens)\n",
        "plt.title(\"Confusion Matrix\")\n",
        "plt.colorbar()\n",
        "tick_marks = np.arange(len(classes))\n",
        "plt.xticks(tick_marks, classes)\n",
        "plt.yticks(tick_marks, classes)\n",
        "\n",
        "fmt = 'd'\n",
        "thresh = conf.max() / 2.\n",
        "for i, j in itertools.product(range(conf.shape[0]), range(conf.shape[1])):\n",
        "    plt.text(j, i, format(conf[i, j], fmt),\n",
        "             horizontalalignment=\"center\",\n",
        "             color=\"white\" if conf[i, j] > thresh else \"black\")\n",
        "\n",
        "plt.tight_layout()\n",
        "plt.ylabel('True label')\n",
        "plt.xlabel('Predicted label')"
      ]
    },
    {
      "cell_type": "markdown",
      "metadata": {
        "id": "v81eYMJ0UM29"
      },
      "source": [
        "dari hasil confusion matrix dapat dilihat jumlah contoh yang diprediksi benar oleh classifier, untuk kedua kelas secara terpisah.  \n",
        "sehingga didaptkan hasil `True Positives, True Negatives, False Positives, and False Negatives` dari perhitungan confusion matrix.  "
      ]
    },
    {
      "cell_type": "code",
      "execution_count": 40,
      "metadata": {
        "id": "gjTIQRccOr-A"
      },
      "outputs": [],
      "source": [
        "\n",
        "TP = true_pos = 123\n",
        "TN = true_neg = 68\n",
        "FP = false_pos = 7\n",
        "FN = false_neg = 2"
      ]
    },
    {
      "cell_type": "markdown",
      "metadata": {
        "id": "USDonfT5Jpr2"
      },
      "source": [
        "### Berbagai tipe *basic metrics*"
      ]
    },
    {
      "cell_type": "markdown",
      "metadata": {
        "id": "X5dcb4jEPpDR"
      },
      "source": [
        "Sekarang, kita akan menghitung beberapa metrik dasar dari keempat nilai. dan dibutuhkan dictionary untuk menyimpan metrik ini. maka per dibuat dictionary `results`."
      ]
    },
    {
      "cell_type": "code",
      "execution_count": 41,
      "metadata": {
        "id": "wFE2EKmxV_Xx"
      },
      "outputs": [],
      "source": [
        "results = {}"
      ]
    },
    {
      "cell_type": "markdown",
      "metadata": {
        "id": "U6O_iUIHZqgj"
      },
      "source": [
        "#### Accuracy \n",
        "jumlah contoh yang diprediksi dengan benar / jumlah total contoh  \n",
        "![alt text](https://wikimedia.org/api/rest_v1/media/math/render/svg/c72ec21ef2505c2d376e96197637fc64f75e5891)"
      ]
    },
    {
      "cell_type": "code",
      "execution_count": 42,
      "metadata": {
        "colab": {
          "base_uri": "https://localhost:8080/",
          "height": 34
        },
        "id": "4y3hcfI0WFfv",
        "outputId": "2e6b83fc-3865-4406-f837-836fbea1ea17"
      },
      "outputs": [
        {
          "name": "stdout",
          "output_type": "stream",
          "text": [
            "ACC is  0.955\n"
          ]
        }
      ],
      "source": [
        "metric = \"ACC\"\n",
        "results[metric] = (TP + TN) / (TP + TN + FP + FN)\n",
        "print(f\"{metric} is {results[metric]: .3f}\")"
      ]
    },
    {
      "cell_type": "markdown",
      "metadata": {
        "id": "vjmFM1v_Z_a8"
      },
      "source": [
        "#### True Positive Rate\n",
        "jumlah sampel sebenarnya dan diprediksi sebagai `Positive` / jumlah sampel sebenarnya `Positive`  \n",
        "juga disebut sebagai **Sensitivity or Recall**.  \n",
        "![alt text](https://wikimedia.org/api/rest_v1/media/math/render/svg/64d5540cbadeb83f864d7a731b7ab43cccd0f353)\n"
      ]
    },
    {
      "cell_type": "code",
      "execution_count": 43,
      "metadata": {
        "colab": {
          "base_uri": "https://localhost:8080/",
          "height": 34
        },
        "id": "q8JoI-S6WKMS",
        "outputId": "f5f3912b-3cd5-4f81-c1bb-30f00959490e"
      },
      "outputs": [
        {
          "name": "stdout",
          "output_type": "stream",
          "text": [
            "TPR is  0.984\n"
          ]
        }
      ],
      "source": [
        "\n",
        "metric = \"TPR\"\n",
        "results[metric] = TP / (TP + FN)\n",
        "print(f\"{metric} is {results[metric]: .3f}\")"
      ]
    },
    {
      "cell_type": "markdown",
      "metadata": {
        "id": "f6y1c1SDa0Lg"
      },
      "source": [
        "#### True Negative Rate\n",
        "jumlah sampel sebenarnya dan diprediksi sebagai `Negative` / jumlah sampel sebenarnya `Negative`  \n",
        "juga disebut sebagai **Specificity**.  \n",
        "![alt text](https://wikimedia.org/api/rest_v1/media/math/render/svg/aac65b6586cb61c1268403895012c2a8f19b0c5e)\n"
      ]
    },
    {
      "cell_type": "code",
      "execution_count": 44,
      "metadata": {
        "colab": {
          "base_uri": "https://localhost:8080/",
          "height": 34
        },
        "id": "rkRmDKjSYLYE",
        "outputId": "ecd91ca1-6972-4ff0-9cfc-5292f2b3d609"
      },
      "outputs": [
        {
          "name": "stdout",
          "output_type": "stream",
          "text": [
            "TNR is  0.907\n"
          ]
        }
      ],
      "source": [
        "\n",
        "metric = \"TNR\"\n",
        "results[metric] = TN / (TN + FP)\n",
        "print(f\"{metric} is {results[metric]: .3f}\")"
      ]
    },
    {
      "cell_type": "markdown",
      "metadata": {
        "id": "qK7WCIlpbDis"
      },
      "source": [
        "#### Positive Predictive Value\n",
        "jumlah sampel sebenarnya dan diprediksi sebagai `Positive` / jumlah total sampel diprediksi sebagai `Positive`  \n",
        "Also called **Precision**.  \n",
        "![alt text](https://wikimedia.org/api/rest_v1/media/math/render/svg/699fcdb880b7f6a92742bc0845b8b60b59806a98)\n"
      ]
    },
    {
      "cell_type": "code",
      "execution_count": 45,
      "metadata": {
        "colab": {
          "base_uri": "https://localhost:8080/",
          "height": 34
        },
        "id": "lNgS7UwfYce9",
        "outputId": "225c3674-84be-4eb4-990a-ce89378ba79d"
      },
      "outputs": [
        {
          "name": "stdout",
          "output_type": "stream",
          "text": [
            "PPV is  0.946\n"
          ]
        }
      ],
      "source": [
        "\n",
        "metric = \"PPV\"\n",
        "results[metric] = TP / (TP + FP)\n",
        "print(f\"{metric} is {results[metric]: .3f}\")"
      ]
    },
    {
      "cell_type": "markdown",
      "metadata": {
        "id": "VBPShM1JdQpO"
      },
      "source": [
        "#### Negative Predictive Value\n",
        "number of samples actually and predicted as  `Negative` / total number of samples predicted as `Negative`    \n",
        "![alt text](https://wikimedia.org/api/rest_v1/media/math/render/svg/b6da0f59faffbc1704974e97847ab4fa599f5521)\n"
      ]
    },
    {
      "cell_type": "code",
      "execution_count": 46,
      "metadata": {
        "colab": {
          "base_uri": "https://localhost:8080/",
          "height": 34
        },
        "id": "qAAhCMaOdsSn",
        "outputId": "b953cab9-b4e7-4264-a0f5-13b79d4a21a9"
      },
      "outputs": [
        {
          "name": "stdout",
          "output_type": "stream",
          "text": [
            "NPV is  0.971\n"
          ]
        }
      ],
      "source": [
        "metric = \"NPV\"\n",
        "results[metric] = TN / (TN + FN)\n",
        "print(f\"{metric} is {results[metric]: .3f}\")"
      ]
    },
    {
      "cell_type": "markdown",
      "metadata": {
        "id": "D6mxQtZyfIte"
      },
      "source": [
        "#### F1 score\n",
        "Rata-rata Harmonic dari Precision dan Recall.  \n",
        "![alt text](https://wikimedia.org/api/rest_v1/media/math/render/svg/5663ca95d471868169c4e4ea57c936f1b6f4a588)"
      ]
    },
    {
      "cell_type": "code",
      "execution_count": 47,
      "metadata": {
        "colab": {
          "base_uri": "https://localhost:8080/",
          "height": 34
        },
        "id": "8pNnIhEbdzFc",
        "outputId": "dd5a9c19-8e99-4607-803d-08c9544cff76"
      },
      "outputs": [
        {
          "name": "stdout",
          "output_type": "stream",
          "text": [
            "F1 is  0.965\n"
          ]
        }
      ],
      "source": [
        "metric = \"F1\"\n",
        "results[metric] = 2 / (1 / results[\"PPV\"] + 1 / results[\"TPR\"])\n",
        "print(f\"{metric} is {results[metric]: .3f}\")"
      ]
    },
    {
      "cell_type": "markdown",
      "metadata": {
        "id": "ZF98MS34edwA"
      },
      "source": [
        "#### Matthew's correlation coefficient\n",
        "Matthew's coefficient berkisar antara `[-1, 1]`. `0` biasanya memiliki arti prediksi yang benar-benar acak. `1` bermakna perfect classifier, sedangkan nilai negatif (`[-1, 0)`) menunjukkan korelasi negatif antara prediksi dan nilai aktual.   \n",
        "\n",
        "![alt text](https://wikimedia.org/api/rest_v1/media/math/render/svg/5caa90fc15105b74b59a30bbc9cc2e5bd43a13b7)"
      ]
    },
    {
      "cell_type": "code",
      "execution_count": 48,
      "metadata": {
        "colab": {
          "base_uri": "https://localhost:8080/",
          "height": 34
        },
        "id": "IxtxoxxmgZxI",
        "outputId": "e288de4e-6bc2-4e3e-def2-983a513414d5"
      },
      "outputs": [
        {
          "name": "stdout",
          "output_type": "stream",
          "text": [
            "MCC is  0.904\n"
          ]
        }
      ],
      "source": [
        "metric = \"MCC\"\n",
        "num = TP * TN - FP * FN\n",
        "den = ((TP + FP) * (TP + FN) * (TN + FP) * (TN + FN)) ** 0.5\n",
        "results[metric] = num / den\n",
        "print(f\"{metric} is {results[metric]: .3f}\")"
      ]
    },
    {
      "cell_type": "markdown",
      "metadata": {
        "id": "4S-Do05vg9js"
      },
      "source": [
        "### Membandingkan metrik yang telah dihitung"
      ]
    },
    {
      "cell_type": "code",
      "execution_count": 49,
      "metadata": {
        "colab": {
          "base_uri": "https://localhost:8080/",
          "height": 102
        },
        "id": "7R0RMkI0krAp",
        "outputId": "e41c3b00-ed05-4602-d1f6-999d4d158fdb"
      },
      "outputs": [
        {
          "name": "stdout",
          "output_type": "stream",
          "text": [
            "Calculated dan Actual Accuracy:                           0.955,  0.955\n",
            "Calculated dan Actual Precision score:                    0.946,  0.946\n",
            "Calculated dan Actual Recall score:                       0.984,  0.984\n",
            "Calculated dan Actual F1 score:                           0.965,  0.965\n",
            "Calculated dan Actual Matthew's correlation coefficient:  0.904,  0.904\n"
          ]
        }
      ],
      "source": [
        "print(f\"Calculated dan Actual Accuracy:                          {results['ACC']: .3f}, {metrics.accuracy_score(y_test, y_preds): .3f}\")\n",
        "print(f\"Calculated dan Actual Precision score:                   {results['PPV']: .3f}, {metrics.precision_score(y_test, y_preds): .3f}\")\n",
        "print(f\"Calculated dan Actual Recall score:                      {results['TPR']: .3f}, {metrics.recall_score(y_test, y_preds): .3f}\")\n",
        "print(f\"Calculated dan Actual F1 score:                          {results['F1']: .3f}, {metrics.f1_score(y_test, y_preds): .3f}\")\n",
        "print(f\"Calculated dan Actual Matthew's correlation coefficient: {results['MCC']: .3f}, {metrics.matthews_corrcoef(y_test, y_preds): .3f}\")"
      ]
    },
    {
      "cell_type": "markdown",
      "metadata": {
        "id": "7UI7NWzcpu8p"
      },
      "source": [
        "### ROC curve (Receiver Operating Characteristic curve)\n",
        "Kurva karakteristik operasi penerima, seperti **ROC curve**, adalah plot grafis yang menggambarkan kemampuan diagnostik sistem pengklasifikasi biner karena ambang batas diskriminasinya bervariasi.  \n",
        " ROC curve dibuat dengan memplot **True Positive Rate (TPR)** berlawanan **False Positive Rate (FPR)** dengan berbagai variasi setting pada threshold.    \n"
      ]
    },
    {
      "cell_type": "code",
      "execution_count": 50,
      "metadata": {
        "id": "1-gXSQ_HrdnI"
      },
      "outputs": [],
      "source": [
        "def get_roc_curve(y_test, y_proba, delta=0.1):\n",
        "\n",
        "    thresh = list(np.arange(0, 1, delta)) + [1]\n",
        "    TPRs = []\n",
        "    FPRs = []\n",
        "    y_pred = np.empty(y_proba.shape)\n",
        "    for th in thresh:\n",
        "        y_pred[y_proba < th] = 0\n",
        "        y_pred[y_proba >= th] = 1\n",
        "        \n",
        "        \n",
        "        (TN, FP), (FN, TP) = get_confusion_matrix(y_test, y_pred)\n",
        "        \n",
        "        TPR = TP / (TP + FN)  # sensitivity\n",
        "        FPR = FP / (FP + TN)  # 1 - specificity\n",
        "        TPRs.append(TPR)\n",
        "        FPRs.append(FPR)\n",
        "    return FPRs, TPRs, thresh"
      ]
    },
    {
      "cell_type": "markdown",
      "metadata": {
        "id": "W3iQtSMKJ63N"
      },
      "source": [
        "disini `delta` adalah perbedaan antara masing-masing ambang batas di mana kurva ROC dihitung"
      ]
    },
    {
      "cell_type": "code",
      "execution_count": 51,
      "metadata": {
        "id": "2zkIsIz31HGY"
      },
      "outputs": [],
      "source": [
        "delta = 0.001\n",
        "FPRs, TPRs, _ = get_roc_curve(y_test, y_proba, delta)"
      ]
    },
    {
      "cell_type": "code",
      "execution_count": 52,
      "metadata": {
        "colab": {
          "base_uri": "https://localhost:8080/",
          "height": 518
        },
        "id": "Igzm5LZDzsNZ",
        "outputId": "38c66386-10e9-41c3-db3d-298a1600836e"
      },
      "outputs": [
        {
          "data": {
            "image/png": "[encoded data removed]",
            "text/plain": [
              "<Figure size 576x576 with 1 Axes>"
            ]
          },
          "metadata": {},
          "output_type": "display_data"
        }
      ],
      "source": [
        "\n",
        "plt.plot(FPRs, TPRs, color='red',\n",
        "         lw=2, label='ROC curve')\n",
        "plt.plot([0, 1], [0, 1], color='navy', lw=2, linestyle='--', label=\"Mean\")\n",
        "plt.xlim([-0.05, 1.0])\n",
        "plt.ylim([0.0, 1.05])\n",
        "plt.xlabel('False Positive Rate')\n",
        "plt.ylabel('True Positive Rate')\n",
        "plt.title(f'ROC curve (threshold delta = {delta})')\n",
        "plt.legend(loc=\"lower right\")\n",
        "plt.show()"
      ]
    },
    {
      "cell_type": "markdown",
      "metadata": {
        "id": "q6B3omej42Rk"
      },
      "source": [
        "Puncak menuju sudut paling kiri berarti pengklasifikasi mendekati sempurna, sedangkan prediksi acak akan memiliki kurva sebagai garis lurus putus-putus biru. Kurva ROC ini memberi tahu bahwa model yang telah dibuat merupakan classifier yang hampir sempurna, dengan akurasi tinggi"
      ]
    },
    {
      "cell_type": "code",
      "execution_count": 53,
      "metadata": {
        "colab": {
          "base_uri": "https://localhost:8080/",
          "height": 34
        },
        "id": "o6EvFVw655bo",
        "outputId": "91254a60-96a5-4328-f448-d60e47936a2d"
      },
      "outputs": [
        {
          "data": {
            "text/plain": [
              "array([0.79654299, 0.18343479, 0.779691  , 0.59685016, 0.44583275])"
            ]
          },
          "execution_count": 53,
          "metadata": {},
          "output_type": "execute_result"
        }
      ],
      "source": [
        "\n",
        "rand_proba = np.random.random(size=(y_proba.shape))\n",
        "rand_proba[:5] "
      ]
    },
    {
      "cell_type": "code",
      "execution_count": 54,
      "metadata": {
        "id": "ZNA8dltO6itt"
      },
      "outputs": [],
      "source": [
        "FPRs, TPRs, _ = get_roc_curve(y_test, rand_proba, delta)  "
      ]
    },
    {
      "cell_type": "code",
      "execution_count": 55,
      "metadata": {
        "colab": {
          "base_uri": "https://localhost:8080/",
          "height": 518
        },
        "id": "a-MFHXue2g4C",
        "outputId": "2787bf1e-edd7-45a2-8e85-73eeb8ad3af9"
      },
      "outputs": [
        {
          "data": {
            "image/png": "[encoded data removed]",
            "text/plain": [
              "<Figure size 576x576 with 1 Axes>"
            ]
          },
          "metadata": {},
          "output_type": "display_data"
        }
      ],
      "source": [
        "\n",
        "plt.plot(FPRs, TPRs, color='red',\n",
        "         lw=2, label='ROC curve')\n",
        "plt.plot([0, 1], [0, 1], color='navy', lw=2, linestyle='--', label=\"Mean\")\n",
        "plt.xlim([-0.05, 1.0])\n",
        "plt.ylim([0.0, 1.05])\n",
        "plt.xlabel('False Positive Rate')\n",
        "plt.ylabel('True Positive Rate')\n",
        "plt.title(f'Random Predictions ROC curve (threshold delta = {delta})')\n",
        "plt.legend(loc=\"lower right\")\n",
        "plt.show()"
      ]
    },
    {
      "cell_type": "markdown",
      "metadata": {
        "id": "JKHS-Skq-IPp"
      },
      "source": [
        "Seperti yang dapat dilihat dari plot di atas, prediksi acak memberikan kurva ROC hampir pada rata-rata. Bandingkan dengan kurva sebelumnya, bagaimana model yang dihasilkan memiliki puncak kiri atas, karena kinerjanya yang unggul."
      ]
    },
    {
      "cell_type": "code",
      "execution_count": 56,
      "metadata": {
        "id": "azh7aCjE7Qid"
      },
      "outputs": [],
      "source": [
        "FPRs, TPRs, _ = metrics.roc_curve(y_test, y_proba)"
      ]
    },
    {
      "cell_type": "code",
      "execution_count": 57,
      "metadata": {
        "colab": {
          "base_uri": "https://localhost:8080/",
          "height": 518
        },
        "id": "L4-Eric87exv",
        "outputId": "fce9c7a2-3ca6-4a15-e946-2f5aee6860d1"
      },
      "outputs": [
        {
          "data": {
            "image/png": "[encoded data removed]",
            "text/plain": [
              "<Figure size 576x576 with 1 Axes>"
            ]
          },
          "metadata": {},
          "output_type": "display_data"
        }
      ],
      "source": [
        "\n",
        "plt.plot(FPRs, TPRs, color='red',\n",
        "         lw=2, label='ROC curve')\n",
        "plt.plot([0, 1], [0, 1], color='navy', lw=2, linestyle='--', label=\"Mean\")\n",
        "plt.xlim([-0.05, 1.0])\n",
        "plt.ylim([0.0, 1.05])\n",
        "plt.xlabel('False Positive Rate')\n",
        "plt.ylabel('True Positive Rate')\n",
        "plt.title(\"Scikit-learn's ROC curve\")\n",
        "plt.legend(loc=\"lower right\")\n",
        "plt.show()"
      ]
    },
    {
      "cell_type": "code",
      "execution_count": 58,
      "metadata": {
        "id": "OHTRMD-57xM6"
      },
      "outputs": [],
      "source": [
        "FPRs, TPRs, _ = metrics.roc_curve(y_test, rand_proba) "
      ]
    },
    {
      "cell_type": "code",
      "execution_count": 59,
      "metadata": {
        "colab": {
          "base_uri": "https://localhost:8080/",
          "height": 518
        },
        "id": "xYr2nKQm7yKI",
        "outputId": "8ae8484a-1449-4a0a-8fd5-82f9b5fecca1"
      },
      "outputs": [
        {
          "data": {
            "image/png": "[encoded data removed]",
            "text/plain": [
              "<Figure size 576x576 with 1 Axes>"
            ]
          },
          "metadata": {},
          "output_type": "display_data"
        }
      ],
      "source": [
        "plt.plot(FPRs, TPRs, color='red',\n",
        "         lw=2, label='ROC curve')\n",
        "plt.plot([0, 1], [0, 1], color='navy', lw=2, linestyle='--', label=\"Mean\")\n",
        "plt.xlim([-0.05, 1.0])\n",
        "plt.ylim([0.0, 1.05])\n",
        "plt.xlabel('False Positive Rate')\n",
        "plt.ylabel('True Positive Rate')\n",
        "plt.title(\"Scikit-learn's Random Predictions ROC curve\")\n",
        "plt.legend(loc=\"lower right\")\n",
        "plt.show()"
      ]
    },
    {
      "cell_type": "markdown",
      "metadata": {
        "id": "wcQXLrk68FC1"
      },
      "source": [
        "### ROC-AUC score\n",
        "Now, that we know about ROC curve, what it represents, **AUC score** is very easy to understand.  \n",
        "AUC stands for **Area under the Curve**, which is nothing but the area under the ROC curve formed by the predictions.  \n",
        "As we saw, a totally random prediction will have AUC score `0.5`, while a perfect classifier will have AUC score of `1`. "
      ]
    },
    {
      "cell_type": "code",
      "execution_count": 60,
      "metadata": {
        "colab": {
          "base_uri": "https://localhost:8080/",
          "height": 34
        },
        "id": "pQmvuU9AKUvm",
        "outputId": "5fe6061f-1149-4f4b-8dc6-a3a8dd8bcda6"
      },
      "outputs": [
        {
          "name": "stdout",
          "output_type": "stream",
          "text": [
            "Scikit's ROC-AUC score of SVC model is  0.9872\n"
          ]
        }
      ],
      "source": [
        "auc_score = metrics.roc_auc_score(y_test, y_proba)\n",
        "print(f\"Scikit's ROC-AUC score of SVC model is {auc_score: .4f}\")"
      ]
    },
    {
      "cell_type": "code",
      "execution_count": 61,
      "metadata": {
        "id": "cyx-Y4nPd6oL"
      },
      "outputs": [],
      "source": [
        "def get_roc_auc_score(y_test, y_proba):\n",
        "    \n",
        "    FPRs, TPRs, _ = get_roc_curve(y_test, y_proba)\n",
        "    FPRs.reverse()\n",
        "    TPRs.reverse()\n",
        "    x1, y1 = FPRs[0], TPRs[0]\n",
        "    auc = 0.0\n",
        "    prev = 0.0\n",
        "\n",
        "    diffs = [FPRs[i] - FPRs[i-1] for i in range(1, len(FPRs))]\n",
        "    for x, y in zip(diffs, TPRs[1:]):\n",
        "        auc += (x * y1)\n",
        "        auc += (x * (y - y1)/2) \n",
        "        y1 = y\n",
        "    return auc"
      ]
    },
    {
      "cell_type": "code",
      "execution_count": 62,
      "metadata": {
        "colab": {
          "base_uri": "https://localhost:8080/",
          "height": 34
        },
        "id": "pqucApZPjn9H",
        "outputId": "cb61c2b2-7a7d-4362-d9a1-eaccdbf05e8d"
      },
      "outputs": [
        {
          "name": "stdout",
          "output_type": "stream",
          "text": [
            "ROC-AUC score dari SVC model adalah  0.9874\n"
          ]
        }
      ],
      "source": [
        "auc_score = get_roc_auc_score(y_test, y_proba)\n",
        "print(f\"ROC-AUC score dari SVC model adalah {auc_score: .4f}\")"
      ]
    },
    {
      "cell_type": "code",
      "execution_count": 63,
      "metadata": {
        "colab": {
          "base_uri": "https://localhost:8080/",
          "height": 51
        },
        "id": "p0970PIaLBYj",
        "outputId": "b4a36adc-5cfe-45bd-f3b9-b27174d4c837"
      },
      "outputs": [
        {
          "name": "stdout",
          "output_type": "stream",
          "text": [
            "Scikit's ROC-AUC score dari random predictions adalah:  0.5111\n",
            "ROC-AUC score dari random predictions adalah:       0.5080\n"
          ]
        }
      ],
      "source": [
        "auc_score = metrics.roc_auc_score(y_test, rand_proba)\n",
        "print(f\"Scikit's ROC-AUC score dari random predictions adalah: {auc_score: .4f}\")\n",
        "auc_score = get_roc_auc_score(y_test, rand_proba)\n",
        "print(f\"ROC-AUC score dari random predictions adalah:      {auc_score: .4f}\")"
      ]
    }
  ],
  "metadata": {
    "accelerator": "GPU",
    "colab": {
      "collapsed_sections": [],
      "provenance": [],
      "toc_visible": true
    },
    "kernelspec": {
      "display_name": "Python 3.8.8 ('base')",
      "language": "python",
      "name": "python3"
    },
    "language_info": {
      "codemirror_mode": {
        "name": "ipython",
        "version": 3
      },
      "file_extension": ".py",
      "mimetype": "text/x-python",
      "name": "python",
      "nbconvert_exporter": "python",
      "pygments_lexer": "ipython3",
      "version": "3.8.8"
    },
    "vscode": {
      "interpreter": {
        "hash": "491feae31c27a1c8c2eb2e8434d5e8fef7076dad40471704f5593a8492996387"
      }
    }
  },
  "nbformat": 4,
  "nbformat_minor": 0
}
